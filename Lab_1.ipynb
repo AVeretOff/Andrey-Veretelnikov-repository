{
  "nbformat": 4,
  "nbformat_minor": 0,
  "metadata": {
    "colab": {
      "name": "Lab_1.ipynb",
      "provenance": []
    },
    "kernelspec": {
      "name": "python3",
      "display_name": "Python 3"
    }
  },
  "cells": [
    {
      "cell_type": "code",
      "metadata": {
        "id": "3pOiAnEOSyGl",
        "colab_type": "code",
        "outputId": "7d240189-78ee-4058-fcd8-fcf7660844b8",
        "colab": {
          "base_uri": "https://localhost:8080/",
          "height": 50
        }
      },
      "source": [
        "flag = 1\n",
        "while flag == 1:\n",
        "    a = float(input())\n",
        "    import math\n",
        "    z_1 = math.cos(a) + math.sin(a) + math.cos(3*a) + math.sin(3*a)\n",
        "    z_2 = 2 * math.sqrt(2) * math.cos(a) * math.sin((math.pi / 4) + 2 * a)\n",
        "    print(z_1)\n",
        "    print(z_2)"
      ],
      "execution_count": 0,
      "outputs": [
        {
          "output_type": "stream",
          "text": [
            "1.1739053787299794\n",
            "1.1739053787299796\n"
          ],
          "name": "stdout"
        }
      ]
    }
  ]
}